{
  "nbformat": 4,
  "nbformat_minor": 0,
  "metadata": {
    "colab": {
      "provenance": []
    },
    "kernelspec": {
      "name": "python3",
      "display_name": "Python 3"
    },
    "language_info": {
      "name": "python"
    }
  },
  "cells": [
    {
      "cell_type": "markdown",
      "source": [
        "Single Responsibility Principle\n",
        "\n",
        "SRP states that a class should have only one responsibility"
      ],
      "metadata": {
        "id": "Pt-Qkq2TaSCc"
      }
    },
    {
      "cell_type": "code",
      "execution_count": null,
      "metadata": {
        "colab": {
          "base_uri": "https://localhost:8080/"
        },
        "id": "aVeflnW0aNVs",
        "outputId": "fd656e4e-8cba-4171-f781-f3746e315931"
      },
      "outputs": [
        {
          "output_type": "stream",
          "name": "stdout",
          "text": [
            "Temperature at Living Room: 23.99623631095738 degrees Celsius\n",
            "Temperature at Kitchen: 20.13195436727588 degrees Celsius\n"
          ]
        }
      ],
      "source": [
        "import random\n",
        "\n",
        "class TemperatureSensor:\n",
        "    def __init__(self, location):\n",
        "        self.location = location\n",
        "\n",
        "    def measure_temperature(self):\n",
        "        # Simulate measuring temperature\n",
        "        temperature = 25 + random.uniform(-5, 5)\n",
        "        return temperature\n",
        "\n",
        "\n",
        "class TemperatureReporter:\n",
        "    def __init__(self, sensor):\n",
        "        self.sensor = sensor\n",
        "\n",
        "    def report_temperature(self):\n",
        "        temperature = self.sensor.measure_temperature()\n",
        "        print(f\"Temperature at {self.sensor.location}: {temperature} degrees Celsius\")\n",
        "\n",
        "\n",
        "if __name__ == \"__main__\":\n",
        "    living_room_sensor = TemperatureSensor(\"Living Room\")\n",
        "    living_room_reporter = TemperatureReporter(living_room_sensor)\n",
        "\n",
        "    kitchen_sensor = TemperatureSensor(\"Kitchen\")\n",
        "    kitchen_reporter = TemperatureReporter(kitchen_sensor)\n",
        "\n",
        "    # Report temperature for the living room\n",
        "    living_room_reporter.report_temperature()\n",
        "\n",
        "    # Report temperature for the kitchen\n",
        "    kitchen_reporter.report_temperature()\n"
      ]
    },
    {
      "cell_type": "markdown",
      "source": [
        "The Open-Closed Principle (OCP) is another SOLID principle that states that a class should be open for extension but closed for modification."
      ],
      "metadata": {
        "id": "bsN3LRyBa_Xk"
      }
    },
    {
      "cell_type": "code",
      "source": [
        "from abc import ABC, abstractmethod\n",
        "\n",
        "# Abstract class representing a payment method\n",
        "class PaymentMethod(ABC):\n",
        "    @abstractmethod\n",
        "    def process_payment(self, amount):\n",
        "        pass\n",
        "\n",
        "# Concrete implementation of a credit card payment\n",
        "class CreditCardPayment(PaymentMethod):\n",
        "    def process_payment(self, amount):\n",
        "        print(f\"Processing credit card payment of ${amount}\")\n",
        "\n",
        "# Concrete implementation of a PayPal payment\n",
        "class PayPalPayment(PaymentMethod):\n",
        "    def process_payment(self, amount):\n",
        "        print(f\"Processing PayPal payment of ${amount}\")\n",
        "\n",
        "# PaymentProcessor class follows the Open-Closed Principle\n",
        "class PaymentProcessor:\n",
        "    def __init__(self):\n",
        "        self.payment_methods = []\n",
        "\n",
        "    def add_payment_method(self, payment_method):\n",
        "        self.payment_methods.append(payment_method)\n",
        "\n",
        "    def process_payments(self, amount):\n",
        "        for payment_method in self.payment_methods:\n",
        "            payment_method.process_payment(amount)\n",
        "\n",
        "if __name__ == \"__main__\":\n",
        "    credit_card_payment = CreditCardPayment()\n",
        "    paypal_payment = PayPalPayment()\n",
        "\n",
        "    processor = PaymentProcessor()\n",
        "\n",
        "    processor.add_payment_method(credit_card_payment)\n",
        "    processor.add_payment_method(paypal_payment)\n",
        "\n",
        "    # Process payments without modifying existing code\n",
        "    processor.process_payments(100)\n"
      ],
      "metadata": {
        "colab": {
          "base_uri": "https://localhost:8080/"
        },
        "id": "Rf4A1AXZav2T",
        "outputId": "18eff5c5-f282-4adc-8bc2-696c82539553"
      },
      "execution_count": null,
      "outputs": [
        {
          "output_type": "stream",
          "name": "stdout",
          "text": [
            "Processing credit card payment of $100\n",
            "Processing PayPal payment of $100\n"
          ]
        }
      ]
    },
    {
      "cell_type": "markdown",
      "source": [
        "\n",
        "The Liskov Substitution Principle (LSP) is one of the SOLID principles and states that objects of a superclass should be replaceable with objects of a subclass without affecting the correctness of the program.\n",
        "\n",
        "document management system:"
      ],
      "metadata": {
        "id": "FELzUn3Ub_gU"
      }
    },
    {
      "cell_type": "code",
      "source": [
        "from abc import ABC, abstractmethod\n",
        "\n",
        "# Abstract class representing a document\n",
        "class Document(ABC):\n",
        "    def __init__(self, content):\n",
        "        self.content = content\n",
        "\n",
        "    @abstractmethod\n",
        "    def display(self):\n",
        "        pass\n",
        "\n",
        "# TextDocument is a subclass of Document\n",
        "class TextDocument(Document):\n",
        "    def display(self):\n",
        "        print(f\"Text Document: {self.content}\")\n",
        "\n",
        "# PDFDocument is another subclass of Document\n",
        "class PDFDocument(Document):\n",
        "    def display(self):\n",
        "        print(f\"PDF Document: {self.content}\")\n",
        "\n",
        "# DocumentViewer can display any Document or its subclass\n",
        "class DocumentViewer:\n",
        "    def view_document(self, document):\n",
        "        document.display()\n",
        "\n",
        "if __name__ == \"__main__\":\n",
        "    text_document = TextDocument(\"This is a text document.\")\n",
        "    pdf_document = PDFDocument(\"This is a PDF document.\")\n",
        "\n",
        "    viewer = DocumentViewer()\n",
        "\n",
        "    # The viewer can display any Document or its subclass\n",
        "    viewer.view_document(text_document)  # Output: Text Document: This is a text document.\n",
        "    viewer.view_document(pdf_document)   # Output: PDF Document: This is a PDF document.\n"
      ],
      "metadata": {
        "id": "CKkyz7q-b-A8"
      },
      "execution_count": null,
      "outputs": []
    },
    {
      "cell_type": "markdown",
      "source": [
        "\n",
        "The Interface Segregation Principle (ISP) is one of the SOLID principles, stating that a class should not be forced to implement interfaces it does not use. In other words, a class should only be required to implement the methods that are relevant to its behavior.\n",
        "\n",
        "Let's consider a real-life example using an electronic device scenario:\n"
      ],
      "metadata": {
        "id": "94ZxVrGZcn1D"
      }
    },
    {
      "cell_type": "code",
      "source": [
        "from abc import ABC, abstractmethod\n",
        "\n",
        "# Interface for devices with display capabilities\n",
        "class Displayable(ABC):\n",
        "    @abstractmethod\n",
        "    def display(self):\n",
        "        pass\n",
        "\n",
        "# Interface for devices with printing capabilities\n",
        "class Printable(ABC):\n",
        "    @abstractmethod\n",
        "    def print_document(self):\n",
        "        pass\n",
        "\n",
        "# Printer implements only the Printable interface\n",
        "class Printer(Printable):\n",
        "    def print_document(self):\n",
        "        print(\"Printing document...\")\n",
        "\n",
        "# Tablet implements only the Displayable interface\n",
        "class Tablet(Displayable):\n",
        "    def display(self):\n",
        "        print(\"Displaying content on the tablet...\")\n",
        "\n",
        "# AllInOneDevice implements both Displayable and Printable interfaces\n",
        "class AllInOneDevice(Displayable, Printable):\n",
        "    def display(self):\n",
        "        print(\"Displaying content on the all-in-one device...\")\n",
        "\n",
        "    def print_document(self):\n",
        "        print(\"Printing document on the all-in-one device...\")\n",
        "\n",
        "if __name__ == \"__main__\":\n",
        "    printer = Printer()\n",
        "    tablet = Tablet()\n",
        "    all_in_one_device = AllInOneDevice()\n",
        "\n",
        "    # Each device can be used based on its capabilities\n",
        "    printer.print_document()             # Output: Printing document...\n",
        "    tablet.display()                     # Output: Displaying content on the tablet...\n",
        "    all_in_one_device.display()          # Output: Displaying content on the all-in-one device...\n",
        "    all_in_one_device.print_document()   # Output: Printing document on the all-in-one device...\n"
      ],
      "metadata": {
        "colab": {
          "base_uri": "https://localhost:8080/"
        },
        "id": "a2HEl_RscqrH",
        "outputId": "cb47239a-a77a-42dd-d7f1-8b8881810f89"
      },
      "execution_count": null,
      "outputs": [
        {
          "output_type": "stream",
          "name": "stdout",
          "text": [
            "Printing document...\n",
            "Displaying content on the tablet...\n",
            "Displaying content on the all-in-one device...\n",
            "Printing document on the all-in-one device...\n"
          ]
        }
      ]
    },
    {
      "cell_type": "markdown",
      "source": [
        "The Dependency Inversion Principle (DIP) is one of the SOLID principles, which suggests that high-level modules (e.g., business logic) should not depend on low-level modules (e.g., data access or external services). Instead, both should depend on abstractions (interfaces or abstract classes).\n",
        "\n",
        "Here's a real-life example using a notification system"
      ],
      "metadata": {
        "id": "dFDWdqh_dEbY"
      }
    },
    {
      "cell_type": "code",
      "source": [
        "from abc import ABC, abstractmethod\n",
        "\n",
        "# Abstraction for a notification service\n",
        "class NotificationService(ABC):\n",
        "    @abstractmethod\n",
        "    def send_notification(self, message):\n",
        "        pass\n",
        "\n",
        "# Concrete implementation of an email notification service\n",
        "class EmailNotificationService(NotificationService):\n",
        "    def send_notification(self, message):\n",
        "        print(f\"Sending email notification: {message}\")\n",
        "\n",
        "# Concrete implementation of an SMS notification service\n",
        "class SMSNotificationService(NotificationService):\n",
        "    def send_notification(self, message):\n",
        "        print(f\"Sending SMS notification: {message}\")\n",
        "\n",
        "# High-level module that depends on an abstraction (NotificationService)\n",
        "class NotificationClient:\n",
        "    def __init__(self, notification_service: NotificationService):\n",
        "        self.notification_service = notification_service\n",
        "\n",
        "    def send_message(self, message):\n",
        "        # Business logic\n",
        "        self.notification_service.send_notification(message)\n",
        "\n",
        "if __name__ == \"__main__\":\n",
        "    email_notification_service = EmailNotificationService()\n",
        "    sms_notification_service = SMSNotificationService()\n",
        "\n",
        "    # High-level module (NotificationClient) depends on abstractions (NotificationService)\n",
        "    email_client = NotificationClient(email_notification_service)\n",
        "    sms_client = NotificationClient(sms_notification_service)\n",
        "\n",
        "    # The high-level module can easily switch between different notification services\n",
        "    email_client.send_message(\"Hello via email!\")   # Output: Sending email notification: Hello via email!\n",
        "    sms_client.send_message(\"Hello via SMS!\")       # Output: Sending SMS notification: Hello via SMS!\n"
      ],
      "metadata": {
        "colab": {
          "base_uri": "https://localhost:8080/"
        },
        "id": "174HSbMddFw2",
        "outputId": "d41265d4-a6fd-41d9-e83f-978c897320ad"
      },
      "execution_count": null,
      "outputs": [
        {
          "output_type": "stream",
          "name": "stdout",
          "text": [
            "Sending email notification: Hello via email!\n",
            "Sending SMS notification: Hello via SMS!\n"
          ]
        }
      ]
    }
  ]
}